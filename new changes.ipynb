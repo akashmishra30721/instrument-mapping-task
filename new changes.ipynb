{
 "cells": [
  {
   "cell_type": "code",
   "execution_count": 24,
   "id": "8fd422af",
   "metadata": {},
   "outputs": [],
   "source": [
    "import pandas as pd\n",
    "from sklearn.feature_extraction.text import TfidfVectorizer\n",
    "from sklearn.metrics.pairwise import cosine_similarity"
   ]
  },
  {
   "cell_type": "code",
   "execution_count": 25,
   "id": "65fe0dc5",
   "metadata": {},
   "outputs": [
    {
     "name": "stderr",
     "output_type": "stream",
     "text": [
      "C:\\Users\\Dell\\AppData\\Local\\Temp\\ipykernel_9116\\2771533027.py:2: DtypeWarning: Columns (2,11) have mixed types. Specify dtype option on import or set low_memory=False.\n",
      "  kotak_data = pd.read_csv(\"D:\\\\deepak\\\\akash\\\\stock\\\\kotak.csv\")\n",
      "C:\\Users\\Dell\\AppData\\Local\\Temp\\ipykernel_9116\\2771533027.py:3: DtypeWarning: Columns (5,8) have mixed types. Specify dtype option on import or set low_memory=False.\n",
      "  fyers_data = pd.read_csv(\"D:\\\\deepak\\\\akash\\\\stock\\\\fyers.csv\")\n",
      "C:\\Users\\Dell\\AppData\\Local\\Temp\\ipykernel_9116\\2771533027.py:4: DtypeWarning: Columns (0) have mixed types. Specify dtype option on import or set low_memory=False.\n",
      "  angel_data = pd.read_csv(\"D:\\\\deepak\\\\akash\\\\stock\\\\angelone.csv\")\n"
     ]
    }
   ],
   "source": [
    "# Load data from CSV files\n",
    "kotak_data = pd.read_csv(\"D:\\\\stock\\\\kotak.csv\")\n",
    "fyers_data = pd.read_csv(\"D:\\\\stock\\\\fyers.csv\")\n",
    "angel_data = pd.read_csv(\"D:\\\\stock\\\\angelone.csv\")\n",
    "zerodha_data = pd.read_csv(\"D:\\\\stock\\\\zerodha.csv\")"
   ]
  },
  {
   "cell_type": "code",
   "execution_count": 26,
   "id": "9b6e453d",
   "metadata": {},
   "outputs": [],
   "source": [
    "# Rename columns for clarity\n",
    "kotak_data.rename(columns={'instrumentName': 'Kotak Symbol', 'name': 'Instrument Name', 'isin': 'ISIN'}, inplace=True)\n",
    "fyers_data.rename(columns={'Underlying symbol': 'Fyers Symbol', 'Symbol Details': 'Instrument Name'}, inplace=True)\n",
    "angel_data.rename(columns={'symbol': 'Angel One Symbol', 'name': 'Instrument Name'}, inplace=True)\n",
    "zerodha_data.rename(columns={'tradingsymbol': 'Zerodha Symbol', 'name': 'Instrument Name'}, inplace=True)\n"
   ]
  },
  {
   "cell_type": "code",
   "execution_count": 27,
   "id": "d9f8fc34",
   "metadata": {},
   "outputs": [],
   "source": [
    "# Drop the 'instrumentToken' column from kotak_data\n",
    "kotak_data.drop(columns=['instrumentToken'], inplace=True)"
   ]
  },
  {
   "cell_type": "code",
   "execution_count": 28,
   "id": "ca4400aa",
   "metadata": {},
   "outputs": [],
   "source": [
    "# Drop specified columns from fyers_data\n",
    "fyers_data.drop(columns=['Fytoken', 'Underlying FyToken', 'Reserved column', 'Reserved column.1', 'Reserved column.2'], inplace=True)\n"
   ]
  },
  {
   "cell_type": "code",
   "execution_count": 29,
   "id": "d45c2661",
   "metadata": {},
   "outputs": [],
   "source": [
    "# Normalize Instrument Name for consistency\n",
    "for df in [kotak_data, fyers_data, angel_data, zerodha_data]:\n",
    "    df['Instrument Name'] = df['Instrument Name'].str.strip().str.upper()\n"
   ]
  },
  {
   "cell_type": "code",
   "execution_count": 30,
   "id": "531cbf59",
   "metadata": {},
   "outputs": [],
   "source": [
    "# Filter out rows with NaN ISIN in both kotak_data and fyers_data\n",
    "kotak_data = kotak_data[kotak_data['ISIN'].notna()]\n",
    "fyers_data = fyers_data[fyers_data['ISIN'].notna()]\n"
   ]
  },
  {
   "cell_type": "code",
   "execution_count": 31,
   "id": "dd65445a",
   "metadata": {},
   "outputs": [],
   "source": [
    "merged_df = pd.merge(kotak_data, fyers_data, on='ISIN', how='inner', suffixes=('_Kotak', '_Fyers'))\n"
   ]
  },
  {
   "cell_type": "code",
   "execution_count": 32,
   "id": "0b7100f3",
   "metadata": {},
   "outputs": [],
   "source": [
    "merged_df.columns = [f\"{col}_kotak\" if col in kotak_data.columns and col != 'ISIN' else f\"{col}_fyers\" if col in fyers_data.columns and col != 'ISIN' else col for col in merged_df.columns]\n"
   ]
  },
  {
   "cell_type": "code",
   "execution_count": 33,
   "id": "67860355",
   "metadata": {},
   "outputs": [
    {
     "data": {
      "text/plain": [
       "Index(['Kotak Symbol_kotak', 'Instrument Name_Kotak', 'lastPrice_kotak',\n",
       "       'expiry_kotak', 'strike_kotak', 'tickSize_kotak', 'lotSize_kotak',\n",
       "       'instrumentType_kotak', 'segment_kotak', 'exchange_kotak', 'ISIN',\n",
       "       'multiplier_kotak', 'exchangeToken_kotak', 'optionType_kotak',\n",
       "       'Instrument Name_Fyers', 'Exchange Instrument type_fyers',\n",
       "       'Minimum lot size_fyers', 'Tick size_fyers', 'Trading Session_fyers',\n",
       "       'Last update date_fyers', 'Expiry date_fyers', 'Symbol ticker_fyers',\n",
       "       'Exchange_fyers', 'Segment_fyers', 'Scrip code_fyers',\n",
       "       'Fyers Symbol_fyers', 'Underlying scrip code_fyers',\n",
       "       'Strike price_fyers', 'Option type_fyers'],\n",
       "      dtype='object')"
      ]
     },
     "execution_count": 33,
     "metadata": {},
     "output_type": "execute_result"
    }
   ],
   "source": [
    "merged_df.columns"
   ]
  },
  {
   "cell_type": "code",
   "execution_count": 34,
   "id": "899fc9bd",
   "metadata": {},
   "outputs": [
    {
     "data": {
      "text/html": [
       "<div>\n",
       "<style scoped>\n",
       "    .dataframe tbody tr th:only-of-type {\n",
       "        vertical-align: middle;\n",
       "    }\n",
       "\n",
       "    .dataframe tbody tr th {\n",
       "        vertical-align: top;\n",
       "    }\n",
       "\n",
       "    .dataframe thead th {\n",
       "        text-align: right;\n",
       "    }\n",
       "</style>\n",
       "<table border=\"1\" class=\"dataframe\">\n",
       "  <thead>\n",
       "    <tr style=\"text-align: right;\">\n",
       "      <th></th>\n",
       "      <th>Kotak Symbol_kotak</th>\n",
       "      <th>Instrument Name_Kotak</th>\n",
       "      <th>lastPrice_kotak</th>\n",
       "      <th>expiry_kotak</th>\n",
       "      <th>strike_kotak</th>\n",
       "      <th>tickSize_kotak</th>\n",
       "      <th>lotSize_kotak</th>\n",
       "      <th>instrumentType_kotak</th>\n",
       "      <th>segment_kotak</th>\n",
       "      <th>exchange_kotak</th>\n",
       "      <th>...</th>\n",
       "      <th>Last update date_fyers</th>\n",
       "      <th>Expiry date_fyers</th>\n",
       "      <th>Symbol ticker_fyers</th>\n",
       "      <th>Exchange_fyers</th>\n",
       "      <th>Segment_fyers</th>\n",
       "      <th>Scrip code_fyers</th>\n",
       "      <th>Fyers Symbol_fyers</th>\n",
       "      <th>Underlying scrip code_fyers</th>\n",
       "      <th>Strike price_fyers</th>\n",
       "      <th>Option type_fyers</th>\n",
       "    </tr>\n",
       "  </thead>\n",
       "  <tbody>\n",
       "    <tr>\n",
       "      <th>8063</th>\n",
       "      <td>KCLINFRA</td>\n",
       "      <td>KCL INFRA PROJECTS LTD</td>\n",
       "      <td>3.00</td>\n",
       "      <td>0</td>\n",
       "      <td>0.0</td>\n",
       "      <td>0.01</td>\n",
       "      <td>1</td>\n",
       "      <td>EQ</td>\n",
       "      <td>CASH</td>\n",
       "      <td>BSE</td>\n",
       "      <td>...</td>\n",
       "      <td>2024-10-25</td>\n",
       "      <td>NaN</td>\n",
       "      <td>BSE:KCLINFRA-X</td>\n",
       "      <td>12</td>\n",
       "      <td>10</td>\n",
       "      <td>531784</td>\n",
       "      <td>KCLINFRA</td>\n",
       "      <td>531784</td>\n",
       "      <td>-1.0</td>\n",
       "      <td>XX</td>\n",
       "    </tr>\n",
       "    <tr>\n",
       "      <th>5175</th>\n",
       "      <td>STEELCAS</td>\n",
       "      <td>STEELCAST LTD</td>\n",
       "      <td>348.40</td>\n",
       "      <td>0</td>\n",
       "      <td>0.0</td>\n",
       "      <td>0.05</td>\n",
       "      <td>1</td>\n",
       "      <td>EQ</td>\n",
       "      <td>CASH</td>\n",
       "      <td>NSE</td>\n",
       "      <td>...</td>\n",
       "      <td>2024-10-25</td>\n",
       "      <td>NaN</td>\n",
       "      <td>NSE:STEELCAS-EQ</td>\n",
       "      <td>10</td>\n",
       "      <td>10</td>\n",
       "      <td>6803</td>\n",
       "      <td>STEELCAS</td>\n",
       "      <td>6803</td>\n",
       "      <td>-1.0</td>\n",
       "      <td>XX</td>\n",
       "    </tr>\n",
       "    <tr>\n",
       "      <th>1955</th>\n",
       "      <td>GULFPETRO</td>\n",
       "      <td>GP PETROLEUMS LTD</td>\n",
       "      <td>45.35</td>\n",
       "      <td>0</td>\n",
       "      <td>0.0</td>\n",
       "      <td>0.05</td>\n",
       "      <td>1</td>\n",
       "      <td>EQ</td>\n",
       "      <td>CASH</td>\n",
       "      <td>NSE</td>\n",
       "      <td>...</td>\n",
       "      <td>2024-10-25</td>\n",
       "      <td>NaN</td>\n",
       "      <td>BSE:GULFPETRO-B</td>\n",
       "      <td>12</td>\n",
       "      <td>10</td>\n",
       "      <td>532543</td>\n",
       "      <td>GULFPETRO</td>\n",
       "      <td>532543</td>\n",
       "      <td>-1.0</td>\n",
       "      <td>XX</td>\n",
       "    </tr>\n",
       "    <tr>\n",
       "      <th>4667</th>\n",
       "      <td>RUCHIRA</td>\n",
       "      <td>RUCHIRA PAPERS LTD</td>\n",
       "      <td>115.15</td>\n",
       "      <td>0</td>\n",
       "      <td>0.0</td>\n",
       "      <td>0.05</td>\n",
       "      <td>1</td>\n",
       "      <td>EQ</td>\n",
       "      <td>CASH</td>\n",
       "      <td>NSE</td>\n",
       "      <td>...</td>\n",
       "      <td>2024-10-25</td>\n",
       "      <td>NaN</td>\n",
       "      <td>NSE:RUCHIRA-EQ</td>\n",
       "      <td>10</td>\n",
       "      <td>10</td>\n",
       "      <td>13821</td>\n",
       "      <td>RUCHIRA</td>\n",
       "      <td>13821</td>\n",
       "      <td>-1.0</td>\n",
       "      <td>XX</td>\n",
       "    </tr>\n",
       "    <tr>\n",
       "      <th>8393</th>\n",
       "      <td>PURSHOTTAM</td>\n",
       "      <td>PURSHOTTAM INVESTOFIN LTD</td>\n",
       "      <td>17.00</td>\n",
       "      <td>0</td>\n",
       "      <td>0.0</td>\n",
       "      <td>0.05</td>\n",
       "      <td>1</td>\n",
       "      <td>EQ</td>\n",
       "      <td>CASH</td>\n",
       "      <td>BSE</td>\n",
       "      <td>...</td>\n",
       "      <td>2024-10-25</td>\n",
       "      <td>NaN</td>\n",
       "      <td>BSE:PURSHOTTAM-X</td>\n",
       "      <td>12</td>\n",
       "      <td>10</td>\n",
       "      <td>538647</td>\n",
       "      <td>PURSHOTTAM</td>\n",
       "      <td>538647</td>\n",
       "      <td>-1.0</td>\n",
       "      <td>XX</td>\n",
       "    </tr>\n",
       "  </tbody>\n",
       "</table>\n",
       "<p>5 rows × 29 columns</p>\n",
       "</div>"
      ],
      "text/plain": [
       "     Kotak Symbol_kotak      Instrument Name_Kotak  lastPrice_kotak  \\\n",
       "8063           KCLINFRA     KCL INFRA PROJECTS LTD             3.00   \n",
       "5175           STEELCAS              STEELCAST LTD           348.40   \n",
       "1955          GULFPETRO          GP PETROLEUMS LTD            45.35   \n",
       "4667            RUCHIRA         RUCHIRA PAPERS LTD           115.15   \n",
       "8393         PURSHOTTAM  PURSHOTTAM INVESTOFIN LTD            17.00   \n",
       "\n",
       "     expiry_kotak  strike_kotak  tickSize_kotak  lotSize_kotak  \\\n",
       "8063            0           0.0            0.01              1   \n",
       "5175            0           0.0            0.05              1   \n",
       "1955            0           0.0            0.05              1   \n",
       "4667            0           0.0            0.05              1   \n",
       "8393            0           0.0            0.05              1   \n",
       "\n",
       "     instrumentType_kotak segment_kotak exchange_kotak  ...  \\\n",
       "8063                   EQ          CASH            BSE  ...   \n",
       "5175                   EQ          CASH            NSE  ...   \n",
       "1955                   EQ          CASH            NSE  ...   \n",
       "4667                   EQ          CASH            NSE  ...   \n",
       "8393                   EQ          CASH            BSE  ...   \n",
       "\n",
       "     Last update date_fyers  Expiry date_fyers  Symbol ticker_fyers  \\\n",
       "8063             2024-10-25                NaN       BSE:KCLINFRA-X   \n",
       "5175             2024-10-25                NaN      NSE:STEELCAS-EQ   \n",
       "1955             2024-10-25                NaN      BSE:GULFPETRO-B   \n",
       "4667             2024-10-25                NaN       NSE:RUCHIRA-EQ   \n",
       "8393             2024-10-25                NaN     BSE:PURSHOTTAM-X   \n",
       "\n",
       "     Exchange_fyers Segment_fyers  Scrip code_fyers  Fyers Symbol_fyers  \\\n",
       "8063             12            10            531784            KCLINFRA   \n",
       "5175             10            10              6803            STEELCAS   \n",
       "1955             12            10            532543           GULFPETRO   \n",
       "4667             10            10             13821             RUCHIRA   \n",
       "8393             12            10            538647          PURSHOTTAM   \n",
       "\n",
       "      Underlying scrip code_fyers Strike price_fyers Option type_fyers  \n",
       "8063                       531784               -1.0                XX  \n",
       "5175                         6803               -1.0                XX  \n",
       "1955                       532543               -1.0                XX  \n",
       "4667                        13821               -1.0                XX  \n",
       "8393                       538647               -1.0                XX  \n",
       "\n",
       "[5 rows x 29 columns]"
      ]
     },
     "execution_count": 34,
     "metadata": {},
     "output_type": "execute_result"
    }
   ],
   "source": [
    "merged_df.sample(5)"
   ]
  },
  {
   "cell_type": "code",
   "execution_count": null,
   "id": "adb8ef5d",
   "metadata": {},
   "outputs": [],
   "source": []
  },
  {
   "cell_type": "code",
   "execution_count": 35,
   "id": "e8fbdac4",
   "metadata": {},
   "outputs": [],
   "source": [
    "def jaccard_similarity(a, b):\n",
    "    a_tokens = set(a.split())\n",
    "    b_tokens = set(b.split())\n",
    "    return len(a_tokens & b_tokens) / len(a_tokens | b_tokens)\n"
   ]
  },
  {
   "cell_type": "code",
   "execution_count": 36,
   "id": "6ce2edf1",
   "metadata": {},
   "outputs": [],
   "source": [
    "# Function for TF-IDF with cosine similarity and Jaccard similarity\n",
    "def tfidf_cosine_similarity_with_jaccard(main_df, match_df, main_key, match_key, output_key, cos_threshold=0.5, jaccard_threshold=0.3):\n",
    "    main_names = main_df[main_key].dropna().unique()\n",
    "    match_names = match_df[match_key].dropna().unique()\n",
    "    \n",
    "    if len(main_names) == 0 or len(match_names) == 0:\n",
    "        return pd.DataFrame(columns=[main_key, output_key])\n",
    "    \n",
    "    all_names = pd.concat([pd.Series(main_names), pd.Series(match_names)]).unique()\n",
    "    \n",
    "    vectorizer = TfidfVectorizer()\n",
    "    tfidf_matrix = vectorizer.fit_transform(all_names)\n",
    "    \n",
    "    main_vectors = tfidf_matrix[:len(main_names)]\n",
    "    match_vectors = tfidf_matrix[len(main_names):]\n",
    "    \n",
    "    similarity_matrix = cosine_similarity(match_vectors, main_vectors)\n",
    "    \n",
    "    matched_pairs = []\n",
    "    for idx, row in enumerate(similarity_matrix):\n",
    "        best_match_idx = row.argmax()\n",
    "        best_score = row[best_match_idx]\n",
    "        if best_score >= cos_threshold:\n",
    "            main_name = main_names[best_match_idx]\n",
    "            match_name = match_names[idx]\n",
    "            # Apply Jaccard similarity as a secondary check\n",
    "            jaccard_score = jaccard_similarity(main_name, match_name)\n",
    "            if jaccard_score >= jaccard_threshold:\n",
    "                matched_pairs.append({\n",
    "                    main_key: main_name,\n",
    "                    output_key: match_name\n",
    "                })\n",
    "    return pd.DataFrame(matched_pairs)\n"
   ]
  },
  {
   "cell_type": "code",
   "execution_count": 37,
   "id": "8b86515f",
   "metadata": {},
   "outputs": [],
   "source": [
    "# Drop the 'token' column from angel_data\n",
    "angel_data.drop(columns=['token'], inplace=True)\n",
    "angel_data.columns = [f\"{col}_angel\" if col != 'Instrument Name' else col for col in angel_data.columns]\n"
   ]
  },
  {
   "cell_type": "code",
   "execution_count": 38,
   "id": "ca139f1b",
   "metadata": {},
   "outputs": [],
   "source": [
    "# Drop 'instrument_token' and 'exchange_token' from zerodha_data and add '_zerodha' suffix\n",
    "zerodha_data.drop(columns=['instrument_token', 'exchange_token'], inplace=True)\n",
    "zerodha_data.columns = [f\"{col}_zerodha\" if col != 'Instrument Name' else col for col in zerodha_data.columns]\n"
   ]
  },
  {
   "cell_type": "code",
   "execution_count": 39,
   "id": "fdbe7693",
   "metadata": {},
   "outputs": [
    {
     "name": "stdout",
     "output_type": "stream",
     "text": [
      "Columns in angel_data: Index(['Angel One Symbol_angel', 'Instrument Name', 'expiry_angel',\n",
      "       'strike_angel', 'lotsize_angel', 'instrumenttype_angel',\n",
      "       'exch_seg_angel', 'tick_size_angel'],\n",
      "      dtype='object')\n",
      "Columns in zerodha_data: Index(['Zerodha Symbol_zerodha', 'Instrument Name', 'last_price_zerodha',\n",
      "       'expiry_zerodha', 'strike_zerodha', 'tick_size_zerodha',\n",
      "       'lot_size_zerodha', 'instrument_type_zerodha', 'segment_zerodha',\n",
      "       'exchange_zerodha'],\n",
      "      dtype='object')\n",
      "Columns in merged_df: Index(['Kotak Symbol_kotak', 'Instrument Name_Kotak', 'lastPrice_kotak',\n",
      "       'expiry_kotak', 'strike_kotak', 'tickSize_kotak', 'lotSize_kotak',\n",
      "       'instrumentType_kotak', 'segment_kotak', 'exchange_kotak', 'ISIN',\n",
      "       'multiplier_kotak', 'exchangeToken_kotak', 'optionType_kotak',\n",
      "       'Instrument Name_Fyers', 'Exchange Instrument type_fyers',\n",
      "       'Minimum lot size_fyers', 'Tick size_fyers', 'Trading Session_fyers',\n",
      "       'Last update date_fyers', 'Expiry date_fyers', 'Symbol ticker_fyers',\n",
      "       'Exchange_fyers', 'Segment_fyers', 'Scrip code_fyers',\n",
      "       'Fyers Symbol_fyers', 'Underlying scrip code_fyers',\n",
      "       'Strike price_fyers', 'Option type_fyers'],\n",
      "      dtype='object')\n"
     ]
    }
   ],
   "source": [
    "# Verify that 'Instrument Name' exists in all DataFrames\n",
    "print(\"Columns in angel_data:\", angel_data.columns)\n",
    "print(\"Columns in zerodha_data:\", zerodha_data.columns)\n",
    "print(\"Columns in merged_df:\", merged_df.columns)"
   ]
  },
  {
   "cell_type": "code",
   "execution_count": 40,
   "id": "1935b335",
   "metadata": {},
   "outputs": [],
   "source": [
    "# Apply similarity function using 'Instrument Name_Fyers' from merged_df\n",
    "matched_angel_df = tfidf_cosine_similarity_with_jaccard(\n",
    "    main_df=merged_df,\n",
    "    match_df=angel_data,\n",
    "    main_key='Instrument Name_Fyers',\n",
    "    match_key='Instrument Name',\n",
    "    output_key='Instrument Name_angel'\n",
    ")"
   ]
  },
  {
   "cell_type": "code",
   "execution_count": 41,
   "id": "591f7b39",
   "metadata": {},
   "outputs": [],
   "source": [
    "\n",
    "# Apply similarity function using 'Instrument Name_Fyers' from merged_df for zerodha_data\n",
    "matched_zerodha_df = tfidf_cosine_similarity_with_jaccard(\n",
    "    main_df=merged_df,\n",
    "    match_df=zerodha_data,\n",
    "    main_key='Instrument Name_Fyers',\n",
    "    match_key='Instrument Name',\n",
    "    output_key='Instrument Name_zerodha'\n",
    ")"
   ]
  },
  {
   "cell_type": "code",
   "execution_count": null,
   "id": "b02c40aa",
   "metadata": {},
   "outputs": [],
   "source": []
  },
  {
   "cell_type": "code",
   "execution_count": 42,
   "id": "96bc9ed6",
   "metadata": {},
   "outputs": [],
   "source": [
    "final_df = pd.merge(merged_df, matched_angel_df, left_on='Instrument Name_Fyers', right_on='Instrument Name_Fyers', how='left')\n"
   ]
  },
  {
   "cell_type": "code",
   "execution_count": 43,
   "id": "a74659b3",
   "metadata": {},
   "outputs": [],
   "source": [
    "final_df = pd.merge(final_df, matched_zerodha_df, left_on='Instrument Name_Fyers', right_on='Instrument Name_Fyers', how='left')\n"
   ]
  },
  {
   "cell_type": "code",
   "execution_count": 44,
   "id": "bc9658f8",
   "metadata": {},
   "outputs": [],
   "source": [
    "final_df = pd.merge(final_df, angel_data, left_on='Instrument Name_Fyers', right_on='Instrument Name', how='left')\n"
   ]
  },
  {
   "cell_type": "code",
   "execution_count": 45,
   "id": "d3080279",
   "metadata": {},
   "outputs": [],
   "source": [
    "final_df = pd.merge(final_df, zerodha_data, left_on='Instrument Name_Fyers', right_on='Instrument Name', how='left')\n"
   ]
  },
  {
   "cell_type": "code",
   "execution_count": null,
   "id": "00726607",
   "metadata": {},
   "outputs": [],
   "source": []
  },
  {
   "cell_type": "code",
   "execution_count": 46,
   "id": "22e06396",
   "metadata": {},
   "outputs": [],
   "source": [
    "final_df.to_csv(\"D:\\\\deepak\\\\akash\\\\stock\\\\temp.csv\")"
   ]
  },
  {
   "cell_type": "code",
   "execution_count": 47,
   "id": "f31c6787",
   "metadata": {},
   "outputs": [
    {
     "data": {
      "text/plain": [
       "Index(['Kotak Symbol_kotak', 'Instrument Name_Kotak', 'lastPrice_kotak',\n",
       "       'expiry_kotak', 'strike_kotak', 'tickSize_kotak', 'lotSize_kotak',\n",
       "       'instrumentType_kotak', 'segment_kotak', 'exchange_kotak', 'ISIN',\n",
       "       'multiplier_kotak', 'exchangeToken_kotak', 'optionType_kotak',\n",
       "       'Instrument Name_Fyers', 'Exchange Instrument type_fyers',\n",
       "       'Minimum lot size_fyers', 'Tick size_fyers', 'Trading Session_fyers',\n",
       "       'Last update date_fyers', 'Expiry date_fyers', 'Symbol ticker_fyers',\n",
       "       'Exchange_fyers', 'Segment_fyers', 'Scrip code_fyers',\n",
       "       'Fyers Symbol_fyers', 'Underlying scrip code_fyers',\n",
       "       'Strike price_fyers', 'Option type_fyers', 'Instrument Name_angel',\n",
       "       'Instrument Name_zerodha', 'Angel One Symbol_angel',\n",
       "       'Instrument Name_x', 'expiry_angel', 'strike_angel', 'lotsize_angel',\n",
       "       'instrumenttype_angel', 'exch_seg_angel', 'tick_size_angel',\n",
       "       'Zerodha Symbol_zerodha', 'Instrument Name_y', 'last_price_zerodha',\n",
       "       'expiry_zerodha', 'strike_zerodha', 'tick_size_zerodha',\n",
       "       'lot_size_zerodha', 'instrument_type_zerodha', 'segment_zerodha',\n",
       "       'exchange_zerodha'],\n",
       "      dtype='object')"
      ]
     },
     "execution_count": 47,
     "metadata": {},
     "output_type": "execute_result"
    }
   ],
   "source": [
    "final_df.columns"
   ]
  },
  {
   "cell_type": "code",
   "execution_count": 48,
   "id": "35710530",
   "metadata": {},
   "outputs": [],
   "source": [
    "def find_mapping(final_df, search_term, broker='Kotak'):\n",
    "    \"\"\"\n",
    "    Search for a script in final_df and return the mapping for all brokers.\n",
    "    \n",
    "    Parameters:\n",
    "    - final_df: The DataFrame containing the combined script master data.\n",
    "    - search_term: The identifier (e.g., symbol) to search for.\n",
    "    - broker: The broker column to search in (default is 'Kotak').\n",
    "\n",
    "    Returns:\n",
    "    - A DataFrame row containing the mapping for the selected script.\n",
    "    \"\"\"\n",
    "    if broker == 'Kotak':\n",
    "        result = final_df[final_df['Kotak Symbol_kotak'] == search_term]\n",
    "    elif broker == 'Fyers':\n",
    "        result = final_df[final_df['Fyers Symbol_fyers'] == search_term]\n",
    "    elif broker == 'Angel':\n",
    "        result = final_df[final_df['Angel One Symbol_angel'] == search_term]\n",
    "    elif broker == 'Zerodha':\n",
    "        result = final_df[final_df['Zerodha Symbol_zerodha'] == search_term]\n",
    "    else:\n",
    "        raise ValueError(\"Unsupported broker. Choose from 'Kotak', 'Fyers', 'Angel', 'Zerodha'.\")\n",
    "\n",
    "    if not result.empty:\n",
    "        return result\n",
    "    else:\n",
    "        return \"Script not found in the selected broker's data.\"\n"
   ]
  },
  {
   "cell_type": "code",
   "execution_count": 50,
   "id": "bb55cf69",
   "metadata": {},
   "outputs": [
    {
     "name": "stdout",
     "output_type": "stream",
     "text": [
      "  Kotak Symbol_kotak Instrument Name_Kotak  lastPrice_kotak expiry_kotak  \\\n",
      "0          20MICRONS        20 MICRONS LTD            73.85            0   \n",
      "1          20MICRONS        20 MICRONS LTD            73.85            0   \n",
      "2          20MICRONS        20 MICRONS LTD            74.00            0   \n",
      "3          20MICRONS        20 MICRONS LTD            74.00            0   \n",
      "\n",
      "   strike_kotak  tickSize_kotak  lotSize_kotak instrumentType_kotak  \\\n",
      "0           0.0            0.05              1                   EQ   \n",
      "1           0.0            0.05              1                   EQ   \n",
      "2           0.0            0.05              1                   EQ   \n",
      "3           0.0            0.05              1                   EQ   \n",
      "\n",
      "  segment_kotak exchange_kotak  ... Zerodha Symbol_zerodha  Instrument Name_y  \\\n",
      "0          CASH            NSE  ...                    NaN                NaN   \n",
      "1          CASH            NSE  ...                    NaN                NaN   \n",
      "2          CASH            BSE  ...                    NaN                NaN   \n",
      "3          CASH            BSE  ...                    NaN                NaN   \n",
      "\n",
      "   last_price_zerodha expiry_zerodha strike_zerodha  tick_size_zerodha  \\\n",
      "0                 NaN            NaN            NaN                NaN   \n",
      "1                 NaN            NaN            NaN                NaN   \n",
      "2                 NaN            NaN            NaN                NaN   \n",
      "3                 NaN            NaN            NaN                NaN   \n",
      "\n",
      "   lot_size_zerodha  instrument_type_zerodha segment_zerodha exchange_zerodha  \n",
      "0               NaN                      NaN             NaN              NaN  \n",
      "1               NaN                      NaN             NaN              NaN  \n",
      "2               NaN                      NaN             NaN              NaN  \n",
      "3               NaN                      NaN             NaN              NaN  \n",
      "\n",
      "[4 rows x 49 columns]\n"
     ]
    }
   ],
   "source": [
    "search_term = '20MICRONS'  # Replace with an actual symbol from your data\n",
    "broker = 'Kotak'  # The broker column to search in\n",
    "\n",
    "result = find_mapping(final_df, search_term, broker)\n",
    "print(result)\n"
   ]
  },
  {
   "cell_type": "code",
   "execution_count": null,
   "id": "4d1b57e0",
   "metadata": {},
   "outputs": [],
   "source": []
  }
 ],
 "metadata": {
  "kernelspec": {
   "display_name": "Python 3 (ipykernel)",
   "language": "python",
   "name": "python3"
  },
  "language_info": {
   "codemirror_mode": {
    "name": "ipython",
    "version": 3
   },
   "file_extension": ".py",
   "mimetype": "text/x-python",
   "name": "python",
   "nbconvert_exporter": "python",
   "pygments_lexer": "ipython3",
   "version": "3.11.3"
  }
 },
 "nbformat": 4,
 "nbformat_minor": 5
}
