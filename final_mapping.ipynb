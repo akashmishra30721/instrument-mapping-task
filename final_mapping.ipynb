{
 "cells": [
  {
   "cell_type": "code",
   "execution_count": 1,
   "id": "259af3ff",
   "metadata": {},
   "outputs": [],
   "source": [
    "import pandas as pd\n",
    "from sklearn.feature_extraction.text import TfidfVectorizer\n",
    "from sklearn.metrics.pairwise import cosine_similarity"
   ]
  },
  {
   "cell_type": "code",
   "execution_count": 2,
   "id": "49b6fbd4",
   "metadata": {},
   "outputs": [
    {
     "name": "stderr",
     "output_type": "stream",
     "text": [
      "C:\\Users\\Dell\\AppData\\Local\\Temp\\ipykernel_26752\\99828119.py:2: DtypeWarning: Columns (2,11) have mixed types. Specify dtype option on import or set low_memory=False.\n",
      "  kotak_data = pd.read_csv(\"D:\\\\deepak\\\\akash\\\\stock\\\\kotak.csv\", usecols=['instrumentName', 'name', 'isin']).drop_duplicates()\n",
      "C:\\Users\\Dell\\AppData\\Local\\Temp\\ipykernel_26752\\99828119.py:3: DtypeWarning: Columns (5) have mixed types. Specify dtype option on import or set low_memory=False.\n",
      "  fyers_data = pd.read_csv(\"D:\\\\deepak\\\\akash\\\\stock\\\\fyers.csv\", usecols=['Symbol ticker', 'Symbol Details', 'ISIN']).drop_duplicates()\n"
     ]
    }
   ],
   "source": [
    "# Load datasets with necessary columns and drop duplicates\n",
    "kotak_data = pd.read_csv(\"D:\\\\stock\\\\kotak.csv\", usecols=['instrumentName', 'name', 'isin']).drop_duplicates()\n",
    "fyers_data = pd.read_csv(\"D:\\\\stock\\\\fyers.csv\", usecols=['Symbol ticker', 'Symbol Details', 'ISIN']).drop_duplicates()\n",
    "angel_data = pd.read_csv(\"D:\\\\stock\\\\angelone.csv\", usecols=['symbol', 'name']).drop_duplicates()\n",
    "zerodha_data = pd.read_csv(\"D:\\\\stock\\\\zerodha.csv\", usecols=['tradingsymbol', 'name']).drop_duplicates()\n"
   ]
  },
  {
   "cell_type": "code",
   "execution_count": 3,
   "id": "2a5a46a7",
   "metadata": {},
   "outputs": [],
   "source": [
    "# Rename columns for clarity\n",
    "kotak_data.rename(columns={'instrumentName': 'Kotak ID', 'name': 'Instrument Name', 'isin': 'ISIN'}, inplace=True)\n",
    "fyers_data.rename(columns={'Symbol ticker': 'Fyers ID', 'Symbol Details': 'Instrument Name'}, inplace=True)\n",
    "angel_data.rename(columns={'symbol': 'Angel One ID', 'name': 'Instrument Name'}, inplace=True)\n",
    "zerodha_data.rename(columns={'tradingsymbol': 'Zerodha ID', 'name': 'Instrument Name'}, inplace=True)\n"
   ]
  },
  {
   "cell_type": "code",
   "execution_count": 4,
   "id": "eb80c715",
   "metadata": {},
   "outputs": [],
   "source": [
    "# Normalize Instrument Name for consistency\n",
    "for df in [kotak_data, fyers_data, angel_data, zerodha_data]:\n",
    "    df['Instrument Name'] = df['Instrument Name'].str.strip().str.upper()\n"
   ]
  },
  {
   "cell_type": "code",
   "execution_count": 5,
   "id": "ba9c2ea3",
   "metadata": {},
   "outputs": [],
   "source": [
    "# Filter out rows with NaN ISIN in both kotak_data and fyers_data\n",
    "kotak_data = kotak_data[kotak_data['ISIN'].notna()]\n",
    "fyers_data = fyers_data[fyers_data['ISIN'].notna()]\n"
   ]
  },
  {
   "cell_type": "code",
   "execution_count": 6,
   "id": "3fb8ec34",
   "metadata": {},
   "outputs": [],
   "source": [
    "merged_df = pd.merge(kotak_data, fyers_data, on='ISIN', how='outer', suffixes=('_Kotak', '_Fyers'))\n"
   ]
  },
  {
   "cell_type": "code",
   "execution_count": 7,
   "id": "b801ce70",
   "metadata": {},
   "outputs": [
    {
     "data": {
      "text/html": [
       "<div>\n",
       "<style scoped>\n",
       "    .dataframe tbody tr th:only-of-type {\n",
       "        vertical-align: middle;\n",
       "    }\n",
       "\n",
       "    .dataframe tbody tr th {\n",
       "        vertical-align: top;\n",
       "    }\n",
       "\n",
       "    .dataframe thead th {\n",
       "        text-align: right;\n",
       "    }\n",
       "</style>\n",
       "<table border=\"1\" class=\"dataframe\">\n",
       "  <thead>\n",
       "    <tr style=\"text-align: right;\">\n",
       "      <th></th>\n",
       "      <th>Kotak ID</th>\n",
       "      <th>Instrument Name_Kotak</th>\n",
       "      <th>ISIN</th>\n",
       "      <th>Instrument Name_Fyers</th>\n",
       "      <th>Fyers ID</th>\n",
       "    </tr>\n",
       "  </thead>\n",
       "  <tbody>\n",
       "    <tr>\n",
       "      <th>3586</th>\n",
       "      <td>BALLARPUR</td>\n",
       "      <td>BALLARPUR INDUSTRIES LTD</td>\n",
       "      <td>INE294A01037</td>\n",
       "      <td>NaN</td>\n",
       "      <td>NaN</td>\n",
       "    </tr>\n",
       "    <tr>\n",
       "      <th>8053</th>\n",
       "      <td>NaN</td>\n",
       "      <td>NaN</td>\n",
       "      <td>IN2920200507</td>\n",
       "      <td>SDL RJ 6.62% 2030</td>\n",
       "      <td>NSE:662RJ30-SG</td>\n",
       "    </tr>\n",
       "    <tr>\n",
       "      <th>17849</th>\n",
       "      <td>NaN</td>\n",
       "      <td>NaN</td>\n",
       "      <td>INE584A08010</td>\n",
       "      <td>NSL-7.30%-28-8-25-PVT</td>\n",
       "      <td>BSE:730NSL25-F</td>\n",
       "    </tr>\n",
       "    <tr>\n",
       "      <th>10831</th>\n",
       "      <td>NaN</td>\n",
       "      <td>NaN</td>\n",
       "      <td>IN3420230242</td>\n",
       "      <td>SDL WB 7.44% 2044</td>\n",
       "      <td>NSE:744WB44-SG</td>\n",
       "    </tr>\n",
       "    <tr>\n",
       "      <th>11830</th>\n",
       "      <td>NaN</td>\n",
       "      <td>NaN</td>\n",
       "      <td>INE0BSN01013</td>\n",
       "      <td>S A TECH SOFTWARE INDIA L</td>\n",
       "      <td>NSE:SATECH-ST</td>\n",
       "    </tr>\n",
       "  </tbody>\n",
       "</table>\n",
       "</div>"
      ],
      "text/plain": [
       "        Kotak ID     Instrument Name_Kotak          ISIN  \\\n",
       "3586   BALLARPUR  BALLARPUR INDUSTRIES LTD  INE294A01037   \n",
       "8053         NaN                       NaN  IN2920200507   \n",
       "17849        NaN                       NaN  INE584A08010   \n",
       "10831        NaN                       NaN  IN3420230242   \n",
       "11830        NaN                       NaN  INE0BSN01013   \n",
       "\n",
       "           Instrument Name_Fyers        Fyers ID  \n",
       "3586                         NaN             NaN  \n",
       "8053           SDL RJ 6.62% 2030  NSE:662RJ30-SG  \n",
       "17849      NSL-7.30%-28-8-25-PVT  BSE:730NSL25-F  \n",
       "10831          SDL WB 7.44% 2044  NSE:744WB44-SG  \n",
       "11830  S A TECH SOFTWARE INDIA L   NSE:SATECH-ST  "
      ]
     },
     "execution_count": 7,
     "metadata": {},
     "output_type": "execute_result"
    }
   ],
   "source": [
    "merged_df.sample(5)"
   ]
  },
  {
   "cell_type": "code",
   "execution_count": 8,
   "id": "8bbba8b7",
   "metadata": {},
   "outputs": [],
   "source": [
    "# Ensure 'Instrument Name' exists in merged_df after merging\n",
    "if 'Instrument Name_Kotak' in merged_df.columns:\n",
    "    merged_df['Instrument Name'] = merged_df['Instrument Name_Kotak'].fillna(merged_df['Instrument Name_Fyers'])\n",
    "elif 'Instrument Name_Fyers' in merged_df.columns:\n",
    "    merged_df['Instrument Name'] = merged_df['Instrument Name_Fyers']\n"
   ]
  },
  {
   "cell_type": "code",
   "execution_count": 9,
   "id": "72eafae6",
   "metadata": {},
   "outputs": [
    {
     "data": {
      "text/html": [
       "<div>\n",
       "<style scoped>\n",
       "    .dataframe tbody tr th:only-of-type {\n",
       "        vertical-align: middle;\n",
       "    }\n",
       "\n",
       "    .dataframe tbody tr th {\n",
       "        vertical-align: top;\n",
       "    }\n",
       "\n",
       "    .dataframe thead th {\n",
       "        text-align: right;\n",
       "    }\n",
       "</style>\n",
       "<table border=\"1\" class=\"dataframe\">\n",
       "  <thead>\n",
       "    <tr style=\"text-align: right;\">\n",
       "      <th></th>\n",
       "      <th>Kotak ID</th>\n",
       "      <th>Instrument Name_Kotak</th>\n",
       "      <th>ISIN</th>\n",
       "      <th>Instrument Name_Fyers</th>\n",
       "      <th>Fyers ID</th>\n",
       "      <th>Instrument Name</th>\n",
       "    </tr>\n",
       "  </thead>\n",
       "  <tbody>\n",
       "    <tr>\n",
       "      <th>1458</th>\n",
       "      <td>JISLJALEQS</td>\n",
       "      <td>JAIN IRRIGATION SYSTEMS LTD</td>\n",
       "      <td>INE175A01038</td>\n",
       "      <td>JAIN IRRIGATION SYSTEMS</td>\n",
       "      <td>NSE:JISLJALEQS-EQ</td>\n",
       "      <td>JAIN IRRIGATION SYSTEMS LTD</td>\n",
       "    </tr>\n",
       "    <tr>\n",
       "      <th>13870</th>\n",
       "      <td>NaN</td>\n",
       "      <td>NaN</td>\n",
       "      <td>INE047E01031</td>\n",
       "      <td>JMD VENTURES LIMITED</td>\n",
       "      <td>BSE:JMDVL-X</td>\n",
       "      <td>JMD VENTURES LIMITED</td>\n",
       "    </tr>\n",
       "    <tr>\n",
       "      <th>5669</th>\n",
       "      <td>STARTECK</td>\n",
       "      <td>STARTECH FINANCE LTD</td>\n",
       "      <td>INE992I01013</td>\n",
       "      <td>STARTECK FINANCE LIMITED</td>\n",
       "      <td>BSE:STARTECK-B</td>\n",
       "      <td>STARTECH FINANCE LTD</td>\n",
       "    </tr>\n",
       "    <tr>\n",
       "      <th>15953</th>\n",
       "      <td>NaN</td>\n",
       "      <td>NaN</td>\n",
       "      <td>IN000550C011</td>\n",
       "      <td>GS06MAY50</td>\n",
       "      <td>BSE:GS06MAY50-G</td>\n",
       "      <td>GS06MAY50</td>\n",
       "    </tr>\n",
       "    <tr>\n",
       "      <th>10381</th>\n",
       "      <td>NaN</td>\n",
       "      <td>NaN</td>\n",
       "      <td>IN3120200214</td>\n",
       "      <td>SDL TN 6.41% 2030</td>\n",
       "      <td>NSE:641TN30-SG</td>\n",
       "      <td>SDL TN 6.41% 2030</td>\n",
       "    </tr>\n",
       "  </tbody>\n",
       "</table>\n",
       "</div>"
      ],
      "text/plain": [
       "         Kotak ID        Instrument Name_Kotak          ISIN  \\\n",
       "1458   JISLJALEQS  JAIN IRRIGATION SYSTEMS LTD  INE175A01038   \n",
       "13870         NaN                          NaN  INE047E01031   \n",
       "5669     STARTECK         STARTECH FINANCE LTD  INE992I01013   \n",
       "15953         NaN                          NaN  IN000550C011   \n",
       "10381         NaN                          NaN  IN3120200214   \n",
       "\n",
       "          Instrument Name_Fyers           Fyers ID  \\\n",
       "1458    JAIN IRRIGATION SYSTEMS  NSE:JISLJALEQS-EQ   \n",
       "13870      JMD VENTURES LIMITED        BSE:JMDVL-X   \n",
       "5669   STARTECK FINANCE LIMITED     BSE:STARTECK-B   \n",
       "15953                 GS06MAY50    BSE:GS06MAY50-G   \n",
       "10381         SDL TN 6.41% 2030     NSE:641TN30-SG   \n",
       "\n",
       "                   Instrument Name  \n",
       "1458   JAIN IRRIGATION SYSTEMS LTD  \n",
       "13870         JMD VENTURES LIMITED  \n",
       "5669          STARTECH FINANCE LTD  \n",
       "15953                    GS06MAY50  \n",
       "10381            SDL TN 6.41% 2030  "
      ]
     },
     "execution_count": 9,
     "metadata": {},
     "output_type": "execute_result"
    }
   ],
   "source": [
    "merged_df.sample(5)"
   ]
  },
  {
   "cell_type": "code",
   "execution_count": 10,
   "id": "0d0db6bf",
   "metadata": {},
   "outputs": [],
   "source": [
    "# Drop redundant columns if they exist\n",
    "merged_df.drop(columns=['Instrument Name_Kotak', 'Instrument Name_Fyers'], errors='ignore', inplace=True)\n"
   ]
  },
  {
   "cell_type": "code",
   "execution_count": 19,
   "id": "c82593db",
   "metadata": {},
   "outputs": [],
   "source": [
    "def jaccard_similarity(a, b):\n",
    "    a_tokens = set(a.split())\n",
    "    b_tokens = set(b.split())\n",
    "    return len(a_tokens & b_tokens) / len(a_tokens | b_tokens)\n"
   ]
  },
  {
   "cell_type": "code",
   "execution_count": 21,
   "id": "87e8bb49",
   "metadata": {},
   "outputs": [],
   "source": [
    "def tfidf_cosine_similarity_with_jaccard(main_df, match_df, main_key, match_key, output_key, cos_threshold=0.7, jaccard_threshold=0.3):\n",
    "    main_names = main_df[main_key].dropna().unique()\n",
    "    match_names = match_df[match_key].dropna().unique()\n",
    "    \n",
    "    if len(main_names) == 0 or len(match_names) == 0:\n",
    "        return pd.DataFrame(columns=['Instrument Name', output_key])\n",
    "    \n",
    "    all_names = pd.concat([pd.Series(main_names), pd.Series(match_names)]).unique()\n",
    "    \n",
    "    vectorizer = TfidfVectorizer()\n",
    "    tfidf_matrix = vectorizer.fit_transform(all_names)\n",
    "    \n",
    "    main_vectors = tfidf_matrix[:len(main_names)]\n",
    "    match_vectors = tfidf_matrix[len(main_names):]\n",
    "    \n",
    "    similarity_matrix = cosine_similarity(match_vectors, main_vectors)\n",
    "    \n",
    "    matched_pairs = []\n",
    "    for idx, row in enumerate(similarity_matrix):\n",
    "        best_match_idx = row.argmax()\n",
    "        best_score = row[best_match_idx]\n",
    "        if best_score >= cos_threshold:\n",
    "            main_name = main_names[best_match_idx]\n",
    "            match_name = match_names[idx]\n",
    "            # Apply Jaccard similarity as a secondary check\n",
    "            jaccard_score = jaccard_similarity(main_name, match_name)\n",
    "            if jaccard_score >= jaccard_threshold:\n",
    "                matched_pairs.append({\n",
    "                    'Instrument Name': main_name,\n",
    "                    output_key: match_name\n",
    "                })\n",
    "    return pd.DataFrame(matched_pairs)\n",
    "\n"
   ]
  },
  {
   "cell_type": "code",
   "execution_count": 22,
   "id": "a9719456",
   "metadata": {},
   "outputs": [],
   "source": [
    "angel_matches = tfidf_cosine_similarity_with_jaccard(merged_df, angel_data, 'Instrument Name', 'Instrument Name', 'Angel One ID', cos_threshold=0.7, jaccard_threshold=0.3)\n"
   ]
  },
  {
   "cell_type": "code",
   "execution_count": 24,
   "id": "507ffd2f",
   "metadata": {},
   "outputs": [
    {
     "data": {
      "text/html": [
       "<div>\n",
       "<style scoped>\n",
       "    .dataframe tbody tr th:only-of-type {\n",
       "        vertical-align: middle;\n",
       "    }\n",
       "\n",
       "    .dataframe tbody tr th {\n",
       "        vertical-align: top;\n",
       "    }\n",
       "\n",
       "    .dataframe thead th {\n",
       "        text-align: right;\n",
       "    }\n",
       "</style>\n",
       "<table border=\"1\" class=\"dataframe\">\n",
       "  <thead>\n",
       "    <tr style=\"text-align: right;\">\n",
       "      <th></th>\n",
       "      <th>Instrument Name</th>\n",
       "      <th>Angel One ID</th>\n",
       "    </tr>\n",
       "  </thead>\n",
       "  <tbody>\n",
       "    <tr>\n",
       "      <th>120</th>\n",
       "      <td>BIGBLOC CONSTRUCTION LTD</td>\n",
       "      <td>BIGBLOC</td>\n",
       "    </tr>\n",
       "    <tr>\n",
       "      <th>156</th>\n",
       "      <td>HDFCAMC - HFMPCC75RD</td>\n",
       "      <td>HFMPCC75RD</td>\n",
       "    </tr>\n",
       "    <tr>\n",
       "      <th>61</th>\n",
       "      <td>OMAXE LTD</td>\n",
       "      <td>OMAXE</td>\n",
       "    </tr>\n",
       "    <tr>\n",
       "      <th>114</th>\n",
       "      <td>KAUSHALYA LOGISTICS LTD</td>\n",
       "      <td>KAUSHALYA</td>\n",
       "    </tr>\n",
       "    <tr>\n",
       "      <th>67</th>\n",
       "      <td>UTIAMC - UTIRPP36P1</td>\n",
       "      <td>UTIRPP36P1</td>\n",
       "    </tr>\n",
       "  </tbody>\n",
       "</table>\n",
       "</div>"
      ],
      "text/plain": [
       "              Instrument Name Angel One ID\n",
       "120  BIGBLOC CONSTRUCTION LTD      BIGBLOC\n",
       "156      HDFCAMC - HFMPCC75RD   HFMPCC75RD\n",
       "61                  OMAXE LTD        OMAXE\n",
       "114   KAUSHALYA LOGISTICS LTD    KAUSHALYA\n",
       "67        UTIAMC - UTIRPP36P1   UTIRPP36P1"
      ]
     },
     "execution_count": 24,
     "metadata": {},
     "output_type": "execute_result"
    }
   ],
   "source": [
    "angel_matches.sample(5)"
   ]
  },
  {
   "cell_type": "code",
   "execution_count": 25,
   "id": "526e7bcc",
   "metadata": {},
   "outputs": [],
   "source": [
    "zerodha_matches = tfidf_cosine_similarity_with_jaccard(merged_df, zerodha_data, 'Instrument Name', 'Instrument Name', 'Zerodha ID', cos_threshold=0.7, jaccard_threshold=0.3)\n"
   ]
  },
  {
   "cell_type": "code",
   "execution_count": 26,
   "id": "28dba64e",
   "metadata": {},
   "outputs": [
    {
     "data": {
      "text/html": [
       "<div>\n",
       "<style scoped>\n",
       "    .dataframe tbody tr th:only-of-type {\n",
       "        vertical-align: middle;\n",
       "    }\n",
       "\n",
       "    .dataframe tbody tr th {\n",
       "        vertical-align: top;\n",
       "    }\n",
       "\n",
       "    .dataframe thead th {\n",
       "        text-align: right;\n",
       "    }\n",
       "</style>\n",
       "<table border=\"1\" class=\"dataframe\">\n",
       "  <thead>\n",
       "    <tr style=\"text-align: right;\">\n",
       "      <th></th>\n",
       "      <th>Instrument Name</th>\n",
       "      <th>Zerodha ID</th>\n",
       "    </tr>\n",
       "  </thead>\n",
       "  <tbody>\n",
       "    <tr>\n",
       "      <th>8</th>\n",
       "      <td>LIC NOMURA MF ETF - NIFTY 100</td>\n",
       "      <td>INAV -LIC MF ETF NIFTY 100</td>\n",
       "    </tr>\n",
       "    <tr>\n",
       "      <th>75</th>\n",
       "      <td>IFCI LTD</td>\n",
       "      <td>IFCI</td>\n",
       "    </tr>\n",
       "    <tr>\n",
       "      <th>58</th>\n",
       "      <td>BIRLA CABLE LTD</td>\n",
       "      <td>BIRLA CABLE</td>\n",
       "    </tr>\n",
       "    <tr>\n",
       "      <th>51</th>\n",
       "      <td>BASF INDIA LTD</td>\n",
       "      <td>BASF INDIA</td>\n",
       "    </tr>\n",
       "    <tr>\n",
       "      <th>43</th>\n",
       "      <td>ATV PROJECTS INDIA LTD</td>\n",
       "      <td>ATV PROJECTS INDIA</td>\n",
       "    </tr>\n",
       "  </tbody>\n",
       "</table>\n",
       "</div>"
      ],
      "text/plain": [
       "                  Instrument Name                  Zerodha ID\n",
       "8   LIC NOMURA MF ETF - NIFTY 100  INAV -LIC MF ETF NIFTY 100\n",
       "75                       IFCI LTD                        IFCI\n",
       "58                BIRLA CABLE LTD                 BIRLA CABLE\n",
       "51                 BASF INDIA LTD                  BASF INDIA\n",
       "43         ATV PROJECTS INDIA LTD          ATV PROJECTS INDIA"
      ]
     },
     "execution_count": 26,
     "metadata": {},
     "output_type": "execute_result"
    }
   ],
   "source": [
    "zerodha_matches.sample(5)"
   ]
  },
  {
   "cell_type": "code",
   "execution_count": 34,
   "id": "f47dff99",
   "metadata": {},
   "outputs": [],
   "source": [
    "# Merge the matches back into the main DataFrame\n",
    "final_df = merged_df.merge(angel_matches, on='Instrument Name', how='left')\n"
   ]
  },
  {
   "cell_type": "code",
   "execution_count": 35,
   "id": "854c0ddf",
   "metadata": {},
   "outputs": [],
   "source": [
    "final_df = final_df.merge(zerodha_matches, on='Instrument Name', how='left')\n"
   ]
  },
  {
   "cell_type": "code",
   "execution_count": 43,
   "id": "54ede913",
   "metadata": {},
   "outputs": [
    {
     "data": {
      "text/html": [
       "<div>\n",
       "<style scoped>\n",
       "    .dataframe tbody tr th:only-of-type {\n",
       "        vertical-align: middle;\n",
       "    }\n",
       "\n",
       "    .dataframe tbody tr th {\n",
       "        vertical-align: top;\n",
       "    }\n",
       "\n",
       "    .dataframe thead th {\n",
       "        text-align: right;\n",
       "    }\n",
       "</style>\n",
       "<table border=\"1\" class=\"dataframe\">\n",
       "  <thead>\n",
       "    <tr style=\"text-align: right;\">\n",
       "      <th></th>\n",
       "      <th>Instrument Name</th>\n",
       "      <th>Kotak ID</th>\n",
       "      <th>Fyers ID</th>\n",
       "      <th>Angel One ID</th>\n",
       "      <th>Zerodha ID</th>\n",
       "    </tr>\n",
       "  </thead>\n",
       "  <tbody>\n",
       "    <tr>\n",
       "      <th>10694</th>\n",
       "      <td>ABHFL 8% 2034 SR J1</td>\n",
       "      <td>NaN</td>\n",
       "      <td>NSE:8ABHF34-N4</td>\n",
       "      <td>NaN</td>\n",
       "      <td>NaN</td>\n",
       "    </tr>\n",
       "    <tr>\n",
       "      <th>7486</th>\n",
       "      <td>SDL HP 7.48% 2033</td>\n",
       "      <td>NaN</td>\n",
       "      <td>NSE:748HP33-SG</td>\n",
       "      <td>NaN</td>\n",
       "      <td>NaN</td>\n",
       "    </tr>\n",
       "    <tr>\n",
       "      <th>7378</th>\n",
       "      <td>773GUJSDL32</td>\n",
       "      <td>NaN</td>\n",
       "      <td>BSE:773GJ32-G</td>\n",
       "      <td>NaN</td>\n",
       "      <td>NaN</td>\n",
       "    </tr>\n",
       "    <tr>\n",
       "      <th>4643</th>\n",
       "      <td>COSMO FERRITES LTD</td>\n",
       "      <td>COSMOFE</td>\n",
       "      <td>BSE:COSMOFE-XT</td>\n",
       "      <td>NaN</td>\n",
       "      <td>NaN</td>\n",
       "    </tr>\n",
       "    <tr>\n",
       "      <th>5881</th>\n",
       "      <td>WALL STREET FINANCE LTD</td>\n",
       "      <td>WSFIN</td>\n",
       "      <td>BSE:WSFX-X</td>\n",
       "      <td>NaN</td>\n",
       "      <td>NaN</td>\n",
       "    </tr>\n",
       "  </tbody>\n",
       "</table>\n",
       "</div>"
      ],
      "text/plain": [
       "               Instrument Name Kotak ID        Fyers ID Angel One ID  \\\n",
       "10694      ABHFL 8% 2034 SR J1      NaN  NSE:8ABHF34-N4          NaN   \n",
       "7486         SDL HP 7.48% 2033      NaN  NSE:748HP33-SG          NaN   \n",
       "7378               773GUJSDL32      NaN   BSE:773GJ32-G          NaN   \n",
       "4643        COSMO FERRITES LTD  COSMOFE  BSE:COSMOFE-XT          NaN   \n",
       "5881   WALL STREET FINANCE LTD    WSFIN      BSE:WSFX-X          NaN   \n",
       "\n",
       "      Zerodha ID  \n",
       "10694        NaN  \n",
       "7486         NaN  \n",
       "7378         NaN  \n",
       "4643         NaN  \n",
       "5881         NaN  "
      ]
     },
     "execution_count": 43,
     "metadata": {},
     "output_type": "execute_result"
    }
   ],
   "source": [
    "final_df.sample(5)"
   ]
  },
  {
   "cell_type": "code",
   "execution_count": 42,
   "id": "c4a588b2",
   "metadata": {},
   "outputs": [],
   "source": [
    "final_df = final_df[['Instrument Name', 'Kotak ID', 'Fyers ID', 'Angel One ID', 'Zerodha ID']]\n"
   ]
  },
  {
   "cell_type": "code",
   "execution_count": 44,
   "id": "1fd510c4",
   "metadata": {},
   "outputs": [
    {
     "data": {
      "text/plain": [
       "(20216, 5)"
      ]
     },
     "execution_count": 44,
     "metadata": {},
     "output_type": "execute_result"
    }
   ],
   "source": [
    "final_df.shape"
   ]
  },
  {
   "cell_type": "code",
   "execution_count": 45,
   "id": "ce930347",
   "metadata": {},
   "outputs": [],
   "source": [
    "final_df.to_csv(\"D:\\\\stock\\\\final_mapping.csv\")"
   ]
  },
  {
   "cell_type": "code",
   "execution_count": null,
   "id": "4ea5f464",
   "metadata": {},
   "outputs": [],
   "source": []
  }
 ],
 "metadata": {
  "kernelspec": {
   "display_name": "Python 3 (ipykernel)",
   "language": "python",
   "name": "python3"
  },
  "language_info": {
   "codemirror_mode": {
    "name": "ipython",
    "version": 3
   },
   "file_extension": ".py",
   "mimetype": "text/x-python",
   "name": "python",
   "nbconvert_exporter": "python",
   "pygments_lexer": "ipython3",
   "version": "3.11.3"
  }
 },
 "nbformat": 4,
 "nbformat_minor": 5
}
